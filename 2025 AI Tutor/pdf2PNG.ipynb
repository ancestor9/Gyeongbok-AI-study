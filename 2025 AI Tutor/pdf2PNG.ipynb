{
  "nbformat": 4,
  "nbformat_minor": 0,
  "metadata": {
    "colab": {
      "provenance": [],
      "authorship_tag": "ABX9TyPpUM57AkjXbzbriRuu83s0",
      "include_colab_link": true
    },
    "kernelspec": {
      "name": "python3",
      "display_name": "Python 3"
    },
    "language_info": {
      "name": "python"
    }
  },
  "cells": [
    {
      "cell_type": "markdown",
      "metadata": {
        "id": "view-in-github",
        "colab_type": "text"
      },
      "source": [
        "<a href=\"https://colab.research.google.com/github/ancestor9/Gyeongbok-AI-study/blob/main/2025%20AI%20Tutor/pdf2PNG.ipynb\" target=\"_parent\"><img src=\"https://colab.research.google.com/assets/colab-badge.svg\" alt=\"Open In Colab\"/></a>"
      ]
    },
    {
      "cell_type": "markdown",
      "source": [
        "## pdf 파일을 이미지 파일 형태로 변환"
      ],
      "metadata": {
        "id": "LvGHnn_7lXPo"
      }
    },
    {
      "source": [
        "!pip install pdf2image\n",
        "!apt-get update\n",
        "!apt-get install -y poppler-utils"
      ],
      "cell_type": "code",
      "metadata": {
        "colab": {
          "base_uri": "https://localhost:8080/"
        },
        "id": "SmBzFk4dlz67",
        "outputId": "465d6b68-5910-4394-92e5-24f5f0fa6f20"
      },
      "execution_count": 2,
      "outputs": [
        {
          "output_type": "stream",
          "name": "stdout",
          "text": [
            "Collecting pdf2image\n",
            "  Downloading pdf2image-1.17.0-py3-none-any.whl.metadata (6.2 kB)\n",
            "Requirement already satisfied: pillow in /usr/local/lib/python3.11/dist-packages (from pdf2image) (11.2.1)\n",
            "Downloading pdf2image-1.17.0-py3-none-any.whl (11 kB)\n",
            "Installing collected packages: pdf2image\n",
            "Successfully installed pdf2image-1.17.0\n",
            "Get:1 https://cloud.r-project.org/bin/linux/ubuntu jammy-cran40/ InRelease [3,632 B]\n",
            "Get:2 https://developer.download.nvidia.com/compute/cuda/repos/ubuntu2204/x86_64  InRelease [1,581 B]\n",
            "Hit:3 http://archive.ubuntu.com/ubuntu jammy InRelease\n",
            "Get:4 http://security.ubuntu.com/ubuntu jammy-security InRelease [129 kB]\n",
            "Get:5 https://developer.download.nvidia.com/compute/cuda/repos/ubuntu2204/x86_64  Packages [1,683 kB]\n",
            "Get:6 http://archive.ubuntu.com/ubuntu jammy-updates InRelease [128 kB]\n",
            "Get:7 https://r2u.stat.illinois.edu/ubuntu jammy InRelease [6,555 B]\n",
            "Get:8 https://r2u.stat.illinois.edu/ubuntu jammy/main amd64 Packages [2,730 kB]\n",
            "Hit:9 https://ppa.launchpadcontent.net/deadsnakes/ppa/ubuntu jammy InRelease\n",
            "Hit:10 https://ppa.launchpadcontent.net/graphics-drivers/ppa/ubuntu jammy InRelease\n",
            "Get:11 http://archive.ubuntu.com/ubuntu jammy-backports InRelease [127 kB]\n",
            "Get:12 http://security.ubuntu.com/ubuntu jammy-security/main amd64 Packages [2,944 kB]\n",
            "Get:13 https://ppa.launchpadcontent.net/ubuntugis/ppa/ubuntu jammy InRelease [24.6 kB]\n",
            "Get:14 http://archive.ubuntu.com/ubuntu jammy-updates/main amd64 Packages [3,255 kB]\n",
            "Get:15 https://ppa.launchpadcontent.net/ubuntugis/ppa/ubuntu jammy/main amd64 Packages [77.3 kB]\n",
            "Get:16 http://archive.ubuntu.com/ubuntu jammy-updates/universe amd64 Packages [1,552 kB]\n",
            "Get:17 https://r2u.stat.illinois.edu/ubuntu jammy/main all Packages [8,966 kB]\n",
            "Get:18 http://security.ubuntu.com/ubuntu jammy-security/universe amd64 Packages [1,245 kB]\n",
            "Get:19 http://archive.ubuntu.com/ubuntu jammy-updates/restricted amd64 Packages [4,540 kB]\n",
            "Get:20 http://security.ubuntu.com/ubuntu jammy-security/restricted amd64 Packages [4,387 kB]\n",
            "Get:21 http://archive.ubuntu.com/ubuntu jammy-backports/main amd64 Packages [83.2 kB]\n",
            "Get:22 http://archive.ubuntu.com/ubuntu jammy-backports/universe amd64 Packages [35.2 kB]\n",
            "Fetched 31.9 MB in 5s (6,261 kB/s)\n",
            "Reading package lists... Done\n",
            "W: Skipping acquire of configured file 'main/source/Sources' as repository 'https://r2u.stat.illinois.edu/ubuntu jammy InRelease' does not seem to provide it (sources.list entry misspelt?)\n",
            "Reading package lists... Done\n",
            "Building dependency tree... Done\n",
            "Reading state information... Done\n",
            "The following NEW packages will be installed:\n",
            "  poppler-utils\n",
            "0 upgraded, 1 newly installed, 0 to remove and 91 not upgraded.\n",
            "Need to get 186 kB of archives.\n",
            "After this operation, 697 kB of additional disk space will be used.\n",
            "Get:1 http://archive.ubuntu.com/ubuntu jammy-updates/main amd64 poppler-utils amd64 22.02.0-2ubuntu0.8 [186 kB]\n",
            "Fetched 186 kB in 1s (153 kB/s)\n",
            "Selecting previously unselected package poppler-utils.\n",
            "(Reading database ... 126102 files and directories currently installed.)\n",
            "Preparing to unpack .../poppler-utils_22.02.0-2ubuntu0.8_amd64.deb ...\n",
            "Unpacking poppler-utils (22.02.0-2ubuntu0.8) ...\n",
            "Setting up poppler-utils (22.02.0-2ubuntu0.8) ...\n",
            "Processing triggers for man-db (2.10.2-1) ...\n"
          ]
        }
      ]
    },
    {
      "cell_type": "code",
      "source": [
        "from pdf2image import convert_from_path\n",
        "import os\n",
        "import tempfile\n",
        "\n",
        "def convert_pdf_to_png(pdf_path, output_dir=None, dpi=300):\n",
        "    \"\"\"\n",
        "    PDF 파일을 PNG 이미지로 변환합니다.\n",
        "\n",
        "    Parameters:\n",
        "    - pdf_path: PDF 파일 경로\n",
        "    - output_dir: 이미지 저장 디렉토리 (기본값: PDF 파일과 동일한 디렉토리)\n",
        "    - dpi: 이미지 해상도 (높을수록 이미지 품질 향상, 기본값: 300)\n",
        "\n",
        "    Returns:\n",
        "    - 생성된 이미지 파일 경로 리스트\n",
        "    \"\"\"\n",
        "    # 출력 디렉토리 설정\n",
        "    if output_dir is None:\n",
        "        output_dir = os.path.dirname(os.path.abspath(pdf_path))\n",
        "\n",
        "    # 출력 디렉토리가 없으면 생성\n",
        "    if not os.path.exists(output_dir):\n",
        "        os.makedirs(output_dir)\n",
        "\n",
        "    # PDF 파일명 추출 (확장자 제외)\n",
        "    pdf_filename = os.path.splitext(os.path.basename(pdf_path))[0]\n",
        "\n",
        "    # PDF를 이미지로 변환\n",
        "    print(f\"PDF '{pdf_path}'를 이미지로 변환 중...\")\n",
        "\n",
        "    try:\n",
        "        # PDF를 이미지로 변환 (poppler 필요)\n",
        "        images = convert_from_path(pdf_path, dpi=dpi)\n",
        "\n",
        "        # 이미지 저장 경로 리스트\n",
        "        image_paths = []\n",
        "\n",
        "        # 각 페이지를 PNG로 저장\n",
        "        for i, image in enumerate(images):\n",
        "            # 출력 파일 경로\n",
        "            output_file = os.path.join(output_dir, f\"{pdf_filename}_page_{i+1}.png\")\n",
        "\n",
        "            # 이미지 저장\n",
        "            image.save(output_file, \"PNG\")\n",
        "            image_paths.append(output_file)\n",
        "            print(f\"페이지 {i+1}/{len(images)} 저장 완료: {output_file}\")\n",
        "\n",
        "        print(f\"변환 완료: {len(images)}페이지가 PNG 파일로 저장되었습니다.\")\n",
        "        return image_paths\n",
        "\n",
        "    except Exception as e:\n",
        "        print(f\"PDF 변환 중 오류 발생: {e}\")\n",
        "        return []\n",
        "\n",
        "# 사용 예시\n",
        "if __name__ == \"__main__\":\n",
        "    # PDF 파일 경로\n",
        "    pdf_file = \"/content/2021년도 제49회 물리치료사 국가시험 1교시 기출문제.pdf\"\n",
        "\n",
        "    # 출력 디렉토리 (선택 사항)\n",
        "    output_directory = \"output_images\"\n",
        "\n",
        "    # PDF를 PNG로 변환 (해상도 300 DPI)\n",
        "    image_files = convert_pdf_to_png(pdf_file, output_directory, dpi=300)\n",
        "\n",
        "    # 결과 출력\n",
        "    if image_files:\n",
        "        print(f\"생성된 이미지 파일: {len(image_files)}개\")\n",
        "    else:\n",
        "        print(\"변환된 이미지가 없습니다.\")"
      ],
      "metadata": {
        "colab": {
          "base_uri": "https://localhost:8080/"
        },
        "id": "S7FJcaevlaKj",
        "outputId": "79d94e06-9d6c-484e-85ba-0c503fa99530"
      },
      "execution_count": 3,
      "outputs": [
        {
          "output_type": "stream",
          "name": "stdout",
          "text": [
            "PDF '/content/2021년도 제49회 물리치료사 국가시험 1교시 기출문제.pdf'를 이미지로 변환 중...\n",
            "페이지 1/12 저장 완료: output_images/2021년도 제49회 물리치료사 국가시험 1교시 기출문제_page_1.png\n",
            "페이지 2/12 저장 완료: output_images/2021년도 제49회 물리치료사 국가시험 1교시 기출문제_page_2.png\n",
            "페이지 3/12 저장 완료: output_images/2021년도 제49회 물리치료사 국가시험 1교시 기출문제_page_3.png\n",
            "페이지 4/12 저장 완료: output_images/2021년도 제49회 물리치료사 국가시험 1교시 기출문제_page_4.png\n",
            "페이지 5/12 저장 완료: output_images/2021년도 제49회 물리치료사 국가시험 1교시 기출문제_page_5.png\n",
            "페이지 6/12 저장 완료: output_images/2021년도 제49회 물리치료사 국가시험 1교시 기출문제_page_6.png\n",
            "페이지 7/12 저장 완료: output_images/2021년도 제49회 물리치료사 국가시험 1교시 기출문제_page_7.png\n",
            "페이지 8/12 저장 완료: output_images/2021년도 제49회 물리치료사 국가시험 1교시 기출문제_page_8.png\n",
            "페이지 9/12 저장 완료: output_images/2021년도 제49회 물리치료사 국가시험 1교시 기출문제_page_9.png\n",
            "페이지 10/12 저장 완료: output_images/2021년도 제49회 물리치료사 국가시험 1교시 기출문제_page_10.png\n",
            "페이지 11/12 저장 완료: output_images/2021년도 제49회 물리치료사 국가시험 1교시 기출문제_page_11.png\n",
            "페이지 12/12 저장 완료: output_images/2021년도 제49회 물리치료사 국가시험 1교시 기출문제_page_12.png\n",
            "변환 완료: 12페이지가 PNG 파일로 저장되었습니다.\n",
            "생성된 이미지 파일: 12개\n"
          ]
        }
      ]
    },
    {
      "cell_type": "code",
      "source": [],
      "metadata": {
        "id": "PwlFY6X7lt83"
      },
      "execution_count": null,
      "outputs": []
    }
  ]
}