{
  "nbformat": 4,
  "nbformat_minor": 0,
  "metadata": {
    "colab": {
      "provenance": [],
      "authorship_tag": "ABX9TyNYwwtN6/k9SquhG0SmAPMZ",
      "include_colab_link": true
    },
    "kernelspec": {
      "name": "python3",
      "display_name": "Python 3"
    },
    "language_info": {
      "name": "python"
    }
  },
  "cells": [
    {
      "cell_type": "markdown",
      "metadata": {
        "id": "view-in-github",
        "colab_type": "text"
      },
      "source": [
        "<a href=\"https://colab.research.google.com/github/ancestor9/Gyeongbok-AI-study/blob/main/2025%20AI%20Tutor/pdf_loader.ipynb\" target=\"_parent\"><img src=\"https://colab.research.google.com/assets/colab-badge.svg\" alt=\"Open In Colab\"/></a>"
      ]
    },
    {
      "cell_type": "markdown",
      "source": [
        "### 이미지형태의 pdf파일을 캡쳐하여 PNG 파일로 만든 후"
      ],
      "metadata": {
        "id": "bdneB3MQhAAb"
      }
    },
    {
      "cell_type": "code",
      "source": [
        "!pip install langchain-community --quiet"
      ],
      "metadata": {
        "id": "J3yQIw9shAvY"
      },
      "execution_count": null,
      "outputs": []
    },
    {
      "cell_type": "code",
      "source": [
        "import openai\n",
        "import base64\n",
        "from PIL import Image\n",
        "from io import BytesIO\n",
        "from langchain.chat_models import ChatOpenAI\n",
        "from langchain.schema import HumanMessage, SystemMessage\n",
        "from google.colab import userdata\n",
        "\n",
        "# API key setup\n",
        "openai_api_key = userdata.get('new_open_ai')\n",
        "openai.api_key = openai_api_key\n",
        "\n",
        "# Function to convert image to base64\n",
        "def image_to_base64(img_path):\n",
        "    with Image.open(img_path) as img:\n",
        "        buffered = BytesIO()\n",
        "        img.save(buffered, format=\"PNG\")\n",
        "        return base64.b64encode(buffered.getvalue()).decode()\n",
        "\n",
        "# Image file path\n",
        "img_path = \"/content/sample_file.png\"\n",
        "encoded_img = image_to_base64(img_path)\n",
        "\n",
        "# GPT-4o model with Vision support\n",
        "vision_model = ChatOpenAI(\n",
        "    model=\"gpt-4o\",\n",
        "    openai_api_key=openai.api_key,\n",
        "    max_tokens=2048\n",
        ")\n",
        "\n",
        "# Configure the message with clear instructions\n",
        "messages = [\n",
        "    SystemMessage(content=\"Please extract and transcribe ALL text content from the image exactly as it appears, including ALL question text, ALL choices, and ALL bullet points. DO NOT analyze, interpret, or select answers. Just output the complete text content.\"),\n",
        "    HumanMessage(content=[\n",
        "        {\n",
        "            \"type\": \"image_url\",\n",
        "            \"image_url\": {\n",
        "                \"url\": f\"data:image/png;base64,{encoded_img}\"\n",
        "            }\n",
        "        }\n",
        "    ])\n",
        "]\n",
        "\n",
        "# Call for response\n",
        "response = vision_model.invoke(messages)\n",
        "\n",
        "# Output the result\n",
        "print(response.content)"
      ],
      "metadata": {
        "colab": {
          "base_uri": "https://localhost:8080/"
        },
        "id": "iKfTKXm9d_oW",
        "outputId": "b3e8fc38-a340-414c-9bf8-81bf87b3c0d6"
      },
      "execution_count": 19,
      "outputs": [
        {
          "output_type": "stream",
          "name": "stdout",
          "text": [
            "1. 다음에서 설명하는 인체 기본조직은?\n",
            "- 몸에 널리 분포하며, 영양 구조로 이룸\n",
            "- 세포나 기관 사이 틈을 메우고, 기관들 지지·보호함\n",
            "\n",
            "① 근육조직  \n",
            "② 신경조직  \n",
            "③ 상피조직  \n",
            "④ 결합조직  \n",
            "⑤ 혈액조직  \n",
            "\n",
            "2. 다음에서 설명하는 뼈는?\n",
            "- 앞면에 가로선(transverse line)이 있음\n",
            "- 위쪽에 넓고 아래쪽으로 좁은 사다리꼴 모양\n",
            "- 가쪽에 귀모양의 귀면(auricular surface)이 있음\n",
            "\n",
            "① 망치뼈  \n",
            "② 엉치뼈  \n",
            "③ 위팔뼈  \n",
            "④ 무릎뼈  \n",
            "⑤ 넙다리뼈  \n",
            "\n",
            "3. 다음에서 설명하는 머리뼈는?\n",
            "- 체판, 수직판, 미로 등으로 구성\n",
            "- 체판구멍을 통해 후각신경이 통과\n",
            "\n",
            "① 코뼈  \n",
            "② 나비뼈  \n",
            "③ 벌집뼈  \n",
            "④ 이마뼈  \n",
            "⑤ 뒤통수뼈  \n",
            "\n",
            "4. 다음에서 설명하는 관절은?\n",
            "- 굽힘, 폄, 모음, 벌림 가능\n",
            "- 손목관절, 손허리손가락관절, 고리돌기사이관절에 해당\n",
            "\n",
            "① 경첩관절  \n",
            "② 평면관절  \n",
            "③ 타원관절  \n",
            "④ 공모양관절  \n",
            "⑤ 안장관절  \n"
          ]
        }
      ]
    },
    {
      "cell_type": "markdown",
      "source": [
        "## 추출한 텍스트를 파일로 저장"
      ],
      "metadata": {
        "id": "kjdRJT5zjqRS"
      }
    },
    {
      "cell_type": "code",
      "source": [
        "with open(\"output.txt\", \"w\") as f:\n",
        "  f.write(response.content)\n",
        "\n",
        "print(\"Response content saved to output.txt\")"
      ],
      "metadata": {
        "id": "CaXnwMeFjqiD"
      },
      "execution_count": null,
      "outputs": []
    },
    {
      "cell_type": "markdown",
      "source": [
        "## 텍스트 파일을 Document 형식으로 체계적으로 변환\n",
        "- 각 문제를 개별 Document로 구조화하여 저장하는 방식"
      ],
      "metadata": {
        "id": "kctRJ6jxjMPH"
      }
    },
    {
      "cell_type": "code",
      "source": [
        "from langchain.schema import Document\n",
        "import re\n",
        "\n",
        "def parse_questions_from_file(file_path):\n",
        "    \"\"\"텍스트 파일에서 문제를 읽고 Document 객체 리스트로 변환\"\"\"\n",
        "\n",
        "    with open(file_path, 'r', encoding='utf-8') as file:\n",
        "        content = file.read()\n",
        "\n",
        "    # 문제 단위로 분리\n",
        "    # 숫자와 점으로 시작하는 패턴을 찾아 문제 분리\n",
        "    question_pattern = r'(\\d+)\\.\\s+(.*?)(?=\\d+\\.\\s+|$)'\n",
        "    question_matches = re.finditer(question_pattern, content, re.DOTALL)\n",
        "\n",
        "    documents = []\n",
        "\n",
        "    for match in question_matches:\n",
        "        question_number = int(match.group(1))\n",
        "        question_content = match.group(2).strip()\n",
        "\n",
        "        # 질문과 설명, 보기 분리\n",
        "        parts = question_content.split('\\n\\n')\n",
        "\n",
        "        # 질문 추출 (첫 번째 줄)\n",
        "        question_text = parts[0].split('\\n')[0].strip()\n",
        "\n",
        "        # 설명 추출 (- 로 시작하는 줄)\n",
        "        description_lines = []\n",
        "        description_pattern = r'- (.*)'\n",
        "        for line in parts[0].split('\\n')[1:]:\n",
        "            desc_match = re.match(description_pattern, line.strip())\n",
        "            if desc_match:\n",
        "                description_lines.append(desc_match.group(1).strip())\n",
        "\n",
        "        # 보기 추출\n",
        "        options = {}\n",
        "        option_pattern = r'([①-⑮])\\s+(.*)'\n",
        "\n",
        "        # 보기를 찾을 부분 (첫 번째 파트 이후)\n",
        "        options_text = parts[1] if len(parts) > 1 else \"\"\n",
        "\n",
        "        for line in options_text.split('\\n'):\n",
        "            line = line.strip()\n",
        "            if not line:\n",
        "                continue\n",
        "\n",
        "            option_match = re.match(option_pattern, line)\n",
        "            if option_match:\n",
        "                # 한글 숫자를 아라비아 숫자로 변환\n",
        "                korean_number = option_match.group(1)\n",
        "                # 한글 숫자 매핑\n",
        "                korean_to_arabic = {\n",
        "                    '①': 1, '②': 2, '③': 3, '④': 4, '⑤': 5,\n",
        "                    '⑥': 6, '⑦': 7, '⑧': 8, '⑨': 9, '⑩': 10,\n",
        "                    '⑪': 11, '⑫': 12, '⑬': 13, '⑭': 14, '⑮': 15\n",
        "                }\n",
        "                arabic_number = korean_to_arabic.get(korean_number, 0)\n",
        "                options[arabic_number] = option_match.group(2).strip()\n",
        "\n",
        "        # Document 객체 생성을 위한 메타데이터 구성\n",
        "        metadata = {\n",
        "            \"number\": question_number,\n",
        "            \"question\": question_text,\n",
        "            \"description\": description_lines,\n",
        "            \"options\": options\n",
        "        }\n",
        "\n",
        "        # Document 객체 생성 및 리스트에 추가\n",
        "        documents.append(Document(\n",
        "            page_content=question_content,\n",
        "            metadata=metadata\n",
        "        ))\n",
        "\n",
        "    return documents\n",
        "\n",
        "def save_documents_to_json(documents, output_file):\n",
        "    \"\"\"Document 객체 리스트를 JSON 파일로 저장\"\"\"\n",
        "    import json\n",
        "\n",
        "    # Document 객체를 직렬화 가능한 딕셔너리로 변환\n",
        "    serializable_docs = []\n",
        "    for doc in documents:\n",
        "        serializable_docs.append({\n",
        "            \"page_content\": doc.page_content,\n",
        "            \"metadata\": doc.metadata\n",
        "        })\n",
        "\n",
        "    # JSON 파일로 저장\n",
        "    with open(output_file, 'w', encoding='utf-8') as f:\n",
        "        json.dump(serializable_docs, f, ensure_ascii=False, indent=2)\n",
        "\n",
        "    return output_file\n",
        "\n",
        "# 전체 코드 실행 예시\n",
        "def process_questions_file(input_file_path, output_json_path):\n",
        "    \"\"\"텍스트 파일에서 문제를 추출하고 JSON으로 저장\"\"\"\n",
        "    # 문제 추출 및 Document 객체 생성\n",
        "    documents = parse_questions_from_file(input_file_path)\n",
        "\n",
        "    # 결과 출력 (확인용)\n",
        "    print(f\"총 {len(documents)}개의 문제를 추출했습니다.\")\n",
        "    for i, doc in enumerate(documents, 1):\n",
        "        print(f\"\\n문제 {i}:\")\n",
        "        print(f\"- 번호: {doc.metadata['number']}\")\n",
        "        print(f\"- 질문: {doc.metadata['question']}\")\n",
        "        print(\"- 설명:\")\n",
        "        for desc in doc.metadata['description']:\n",
        "            print(f\"  • {desc}\")\n",
        "        print(\"- 보기:\")\n",
        "        for num, option in sorted(doc.metadata['options'].items()):\n",
        "            print(f\"  {num}. {option}\")\n",
        "\n",
        "    # JSON 파일로 저장\n",
        "    saved_file = save_documents_to_json(documents, output_json_path)\n",
        "    print(f\"\\n문제가 '{saved_file}' 파일에 저장되었습니다.\")\n",
        "\n",
        "    return documents\n",
        "\n",
        "# 실행 예시\n",
        "input_file = \"output.txt\"  # 텍스트 파일 경로\n",
        "output_file = \"questions.json\"  # 출력할 JSON 파일 경로\n",
        "questions = process_questions_file(input_file, output_file)"
      ],
      "metadata": {
        "colab": {
          "base_uri": "https://localhost:8080/"
        },
        "id": "KSGadj2UjNS0",
        "outputId": "8c33894b-ae8f-4d0d-f70a-f1cef127b264"
      },
      "execution_count": 21,
      "outputs": [
        {
          "output_type": "stream",
          "name": "stdout",
          "text": [
            "총 4개의 문제를 추출했습니다.\n",
            "\n",
            "문제 1:\n",
            "- 번호: 1\n",
            "- 질문: 다음에서 설명하는 인체 기본조직은?\n",
            "- 설명:\n",
            "  • 몸에 널리 분포하며, 영양 구조로 이룸\n",
            "  • 세포나 기관 사이 틈을 메우고, 기관들 지지·보호함\n",
            "- 보기:\n",
            "  1. 근육조직\n",
            "  2. 신경조직\n",
            "  3. 상피조직\n",
            "  4. 결합조직\n",
            "  5. 혈액조직\n",
            "\n",
            "문제 2:\n",
            "- 번호: 2\n",
            "- 질문: 다음에서 설명하는 뼈는?\n",
            "- 설명:\n",
            "  • 앞면에 가로선(transverse line)이 있음\n",
            "  • 위쪽에 넓고 아래쪽으로 좁은 사다리꼴 모양\n",
            "  • 가쪽에 귀모양의 귀면(auricular surface)이 있음\n",
            "- 보기:\n",
            "  1. 망치뼈\n",
            "  2. 엉치뼈\n",
            "  3. 위팔뼈\n",
            "  4. 무릎뼈\n",
            "  5. 넙다리뼈\n",
            "\n",
            "문제 3:\n",
            "- 번호: 3\n",
            "- 질문: 다음에서 설명하는 머리뼈는?\n",
            "- 설명:\n",
            "  • 체판, 수직판, 미로 등으로 구성\n",
            "  • 체판구멍을 통해 후각신경이 통과\n",
            "- 보기:\n",
            "  1. 코뼈\n",
            "  2. 나비뼈\n",
            "  3. 벌집뼈\n",
            "  4. 이마뼈\n",
            "  5. 뒤통수뼈\n",
            "\n",
            "문제 4:\n",
            "- 번호: 4\n",
            "- 질문: 다음에서 설명하는 관절은?\n",
            "- 설명:\n",
            "  • 굽힘, 폄, 모음, 벌림 가능\n",
            "  • 손목관절, 손허리손가락관절, 고리돌기사이관절에 해당\n",
            "- 보기:\n",
            "  1. 경첩관절\n",
            "  2. 평면관절\n",
            "  3. 타원관절\n",
            "  4. 공모양관절\n",
            "  5. 안장관절\n",
            "\n",
            "문제가 'questions.json' 파일에 저장되었습니다.\n"
          ]
        }
      ]
    },
    {
      "cell_type": "code",
      "source": [],
      "metadata": {
        "id": "Xtr4IgEGiKsB"
      },
      "execution_count": null,
      "outputs": []
    }
  ]
}